{
 "cells": [
  {
   "cell_type": "code",
   "execution_count": 26,
   "id": "b4f9a910",
   "metadata": {},
   "outputs": [],
   "source": [
    "import requests"
   ]
  },
  {
   "cell_type": "markdown",
   "id": "a2327ebb",
   "metadata": {},
   "source": [
    "# Tomorrow.io"
   ]
  },
  {
   "cell_type": "code",
   "execution_count": 27,
   "id": "0c0ddc54",
   "metadata": {},
   "outputs": [],
   "source": [
    "# API Endpoint und Parameter definieren\n",
    "BASE_URL = \"https://api.tomorrow.io/v4/timelines\"\n",
    "LATITUDE = \"47.0502\"\n",
    "LONGITUDE = \"8.3093\"\n",
    "API_KEY = \"wZ5FPwQDfL3q7z9PtpGMkdghwSboQ8i8\"  # Setze deinen API-Key hier ein\n"
   ]
  },
  {
   "cell_type": "code",
   "execution_count": 37,
   "id": "b88a62aa",
   "metadata": {},
   "outputs": [],
   "source": [
    "# Setze die Parameter für die Abfrage\n",
    "meine_parameter = {\n",
    "    \"location\": f\"{LATITUDE},{LONGITUDE}\",\n",
    "    \"fields\": [\"temperature\", \"temperatureApparent\"],\n",
    "    \"units\": \"metric\",  # Verwende metrische Einheiten (z.B. Grad Celsius)\n",
    "    \"timesteps\": \"1d\",\n",
    "    \"endTime\": \"2023-09-15T00:00:00Z\",  # Beispiel-Datum, setze dies auf das gewünschte Enddatum\n",
    "    \"apikey\": API_KEY}"
   ]
  },
  {
   "cell_type": "code",
   "execution_count": 38,
   "id": "11e6ac36",
   "metadata": {},
   "outputs": [],
   "source": [
    "# Führe die API-Anfrage aus\n",
    "response = requests.get(BASE_URL, params=meine_parameter)\n",
    "data = response.json()"
   ]
  },
  {
   "cell_type": "code",
   "execution_count": 39,
   "id": "d89bfa08",
   "metadata": {},
   "outputs": [
    {
     "data": {
      "text/plain": [
       "{'data': {'timelines': [{'timestep': '1d',\n",
       "    'endTime': '2023-09-14T04:00:00Z',\n",
       "    'startTime': '2023-09-11T04:00:00Z',\n",
       "    'intervals': [{'startTime': '2023-09-11T04:00:00Z',\n",
       "      'values': {'temperature': 28.5, 'temperatureApparent': 29.59}},\n",
       "     {'startTime': '2023-09-12T04:00:00Z',\n",
       "      'values': {'temperature': 26.23, 'temperatureApparent': 26.23}},\n",
       "     {'startTime': '2023-09-13T04:00:00Z',\n",
       "      'values': {'temperature': 19.87, 'temperatureApparent': 19.87}},\n",
       "     {'startTime': '2023-09-14T04:00:00Z',\n",
       "      'values': {'temperature': 20.02, 'temperatureApparent': 20.02}}]}]}}"
      ]
     },
     "execution_count": 39,
     "metadata": {},
     "output_type": "execute_result"
    }
   ],
   "source": [
    "data"
   ]
  },
  {
   "cell_type": "markdown",
   "id": "49ec59bb",
   "metadata": {},
   "source": [
    "## Genderize"
   ]
  },
  {
   "cell_type": "code",
   "execution_count": 2,
   "id": "c8af6742",
   "metadata": {},
   "outputs": [],
   "source": [
    "import requests\n",
    "import pandas as pd\n",
    "import datetime"
   ]
  },
  {
   "cell_type": "code",
   "execution_count": 3,
   "id": "6a1ff710",
   "metadata": {},
   "outputs": [],
   "source": [
    "basis_url = \"https://api.genderize.io?name=\"\n",
    "\n",
    "versuchsname = \"Andrea\"\n",
    "countries = [\"US\", \"CH\", \"IT\", \"UG\", \"AE\", \"AU\", \"JP\", \"BR\"]"
   ]
  },
  {
   "cell_type": "code",
   "execution_count": 22,
   "id": "e3f768ee",
   "metadata": {
    "scrolled": true
   },
   "outputs": [
    {
     "name": "stdout",
     "output_type": "stream",
     "text": [
      "https://api.genderize.io?name=Andrea&country_id=US\n",
      "https://api.genderize.io?name=Andrea&country_id=CH\n",
      "https://api.genderize.io?name=Andrea&country_id=IT\n",
      "https://api.genderize.io?name=Andrea&country_id=UG\n",
      "https://api.genderize.io?name=Andrea&country_id=AE\n",
      "https://api.genderize.io?name=Andrea&country_id=AU\n",
      "https://api.genderize.io?name=Andrea&country_id=JP\n",
      "https://api.genderize.io?name=Andrea&country_id=BR\n"
     ]
    }
   ],
   "source": [
    "#https://api.genderize.io?name=peter&country_id=US\n",
    "genderlist = []\n",
    "url_final = basis_url + versuchsname + \"&\" + \"country_id=\"\n",
    "\n",
    "for country in countries:\n",
    "    url_final = basis_url + versuchsname + \"&\" + \"country_id=\" + country\n",
    "    print(url_final)\n",
    "    result = requests.get(url_final)\n",
    "    result = result.json()\n",
    "    #print(result)\n",
    "    genderlist.append(result)"
   ]
  },
  {
   "cell_type": "code",
   "execution_count": 17,
   "id": "18cf6b2f",
   "metadata": {},
   "outputs": [
    {
     "name": "stdout",
     "output_type": "stream",
     "text": [
      "[{'count': 187905, 'name': 'Andrea', 'country_id': 'US', 'gender': 'female', 'probability': 1.0}, {'count': 10807, 'name': 'Andrea', 'country_id': 'CH', 'gender': 'female', 'probability': 0.89}, {'count': 308496, 'name': 'Andrea', 'country_id': 'IT', 'gender': 'male', 'probability': 0.58}, {'count': 42, 'name': 'Andrea', 'country_id': 'UG', 'gender': 'female', 'probability': 0.76}, {'count': 640, 'name': 'Andrea', 'country_id': 'AE', 'gender': 'female', 'probability': 0.97}, {'count': 9029, 'name': 'Andrea', 'country_id': 'AU', 'gender': 'female', 'probability': 0.99}, {'count': 354, 'name': 'Andrea', 'country_id': 'JP', 'gender': 'female', 'probability': 0.94}, {'count': 38633, 'name': 'Andrea', 'country_id': 'BR', 'gender': 'female', 'probability': 1.0}]\n"
     ]
    }
   ],
   "source": [
    "\n",
    "print(genderlist)"
   ]
  },
  {
   "cell_type": "code",
   "execution_count": 16,
   "id": "f0274592",
   "metadata": {},
   "outputs": [
    {
     "data": {
      "text/html": [
       "<div>\n",
       "<style scoped>\n",
       "    .dataframe tbody tr th:only-of-type {\n",
       "        vertical-align: middle;\n",
       "    }\n",
       "\n",
       "    .dataframe tbody tr th {\n",
       "        vertical-align: top;\n",
       "    }\n",
       "\n",
       "    .dataframe thead th {\n",
       "        text-align: right;\n",
       "    }\n",
       "</style>\n",
       "<table border=\"1\" class=\"dataframe\">\n",
       "  <thead>\n",
       "    <tr style=\"text-align: right;\">\n",
       "      <th></th>\n",
       "      <th>count</th>\n",
       "      <th>name</th>\n",
       "      <th>country_id</th>\n",
       "      <th>gender</th>\n",
       "      <th>probability</th>\n",
       "    </tr>\n",
       "  </thead>\n",
       "  <tbody>\n",
       "    <tr>\n",
       "      <th>0</th>\n",
       "      <td>187905</td>\n",
       "      <td>Andrea</td>\n",
       "      <td>US</td>\n",
       "      <td>female</td>\n",
       "      <td>1.00</td>\n",
       "    </tr>\n",
       "    <tr>\n",
       "      <th>1</th>\n",
       "      <td>10807</td>\n",
       "      <td>Andrea</td>\n",
       "      <td>CH</td>\n",
       "      <td>female</td>\n",
       "      <td>0.89</td>\n",
       "    </tr>\n",
       "    <tr>\n",
       "      <th>2</th>\n",
       "      <td>308496</td>\n",
       "      <td>Andrea</td>\n",
       "      <td>IT</td>\n",
       "      <td>male</td>\n",
       "      <td>0.58</td>\n",
       "    </tr>\n",
       "    <tr>\n",
       "      <th>3</th>\n",
       "      <td>42</td>\n",
       "      <td>Andrea</td>\n",
       "      <td>UG</td>\n",
       "      <td>female</td>\n",
       "      <td>0.76</td>\n",
       "    </tr>\n",
       "    <tr>\n",
       "      <th>4</th>\n",
       "      <td>640</td>\n",
       "      <td>Andrea</td>\n",
       "      <td>AE</td>\n",
       "      <td>female</td>\n",
       "      <td>0.97</td>\n",
       "    </tr>\n",
       "    <tr>\n",
       "      <th>5</th>\n",
       "      <td>9029</td>\n",
       "      <td>Andrea</td>\n",
       "      <td>AU</td>\n",
       "      <td>female</td>\n",
       "      <td>0.99</td>\n",
       "    </tr>\n",
       "    <tr>\n",
       "      <th>6</th>\n",
       "      <td>354</td>\n",
       "      <td>Andrea</td>\n",
       "      <td>JP</td>\n",
       "      <td>female</td>\n",
       "      <td>0.94</td>\n",
       "    </tr>\n",
       "    <tr>\n",
       "      <th>7</th>\n",
       "      <td>38633</td>\n",
       "      <td>Andrea</td>\n",
       "      <td>BR</td>\n",
       "      <td>female</td>\n",
       "      <td>1.00</td>\n",
       "    </tr>\n",
       "  </tbody>\n",
       "</table>\n",
       "</div>"
      ],
      "text/plain": [
       "    count    name country_id  gender  probability\n",
       "0  187905  Andrea         US  female         1.00\n",
       "1   10807  Andrea         CH  female         0.89\n",
       "2  308496  Andrea         IT    male         0.58\n",
       "3      42  Andrea         UG  female         0.76\n",
       "4     640  Andrea         AE  female         0.97\n",
       "5    9029  Andrea         AU  female         0.99\n",
       "6     354  Andrea         JP  female         0.94\n",
       "7   38633  Andrea         BR  female         1.00"
      ]
     },
     "execution_count": 16,
     "metadata": {},
     "output_type": "execute_result"
    }
   ],
   "source": [
    "pd.DataFrame(genderlist)"
   ]
  },
  {
   "cell_type": "code",
   "execution_count": null,
   "id": "60bdeee8",
   "metadata": {},
   "outputs": [],
   "source": []
  },
  {
   "cell_type": "code",
   "execution_count": null,
   "id": "5dc4cd65",
   "metadata": {},
   "outputs": [],
   "source": []
  },
  {
   "cell_type": "code",
   "execution_count": null,
   "id": "7decd9e2",
   "metadata": {},
   "outputs": [],
   "source": []
  },
  {
   "cell_type": "markdown",
   "id": "f2b78e74",
   "metadata": {},
   "source": [
    "# Personenunfälle (funktioniert nicht) "
   ]
  },
  {
   "cell_type": "code",
   "execution_count": 53,
   "id": "f3e6f0ac",
   "metadata": {},
   "outputs": [
    {
     "ename": "KeyError",
     "evalue": "'features'",
     "output_type": "error",
     "traceback": [
      "\u001b[0;31m---------------------------------------------------------------------------\u001b[0m",
      "\u001b[0;31mKeyError\u001b[0m                                  Traceback (most recent call last)",
      "Cell \u001b[0;32mIn[53], line 15\u001b[0m\n\u001b[1;32m     12\u001b[0m accidents_by_time \u001b[38;5;241m=\u001b[39m defaultdict(\u001b[38;5;28mint\u001b[39m)\n\u001b[1;32m     14\u001b[0m \u001b[38;5;66;03m# Gehe durch alle Unfalldaten\u001b[39;00m\n\u001b[0;32m---> 15\u001b[0m \u001b[38;5;28;01mfor\u001b[39;00m feature \u001b[38;5;129;01min\u001b[39;00m \u001b[43mdata\u001b[49m\u001b[43m[\u001b[49m\u001b[38;5;124;43m\"\u001b[39;49m\u001b[38;5;124;43mfeatures\u001b[39;49m\u001b[38;5;124;43m\"\u001b[39;49m\u001b[43m]\u001b[49m:\n\u001b[1;32m     16\u001b[0m     \u001b[38;5;66;03m# Die Annahme hier ist, dass es ein Attribut namens 'time' (oder ähnlich) gibt, das die Tageszeit des Unfalls angibt.\u001b[39;00m\n\u001b[1;32m     17\u001b[0m     \u001b[38;5;66;03m# Der genaue Attributname muss anhand der tatsächlichen Datenstruktur angepasst werden.\u001b[39;00m\n\u001b[1;32m     18\u001b[0m     time_of_accident \u001b[38;5;241m=\u001b[39m feature[\u001b[38;5;124m\"\u001b[39m\u001b[38;5;124mproperties\u001b[39m\u001b[38;5;124m\"\u001b[39m][\u001b[38;5;124m\"\u001b[39m\u001b[38;5;124mtime\u001b[39m\u001b[38;5;124m\"\u001b[39m]  \u001b[38;5;66;03m# Dies muss angepasst werden, je nach tatsächlichem Attributnamen\u001b[39;00m\n\u001b[1;32m     19\u001b[0m     accidents_by_time[time_of_accident] \u001b[38;5;241m+\u001b[39m\u001b[38;5;241m=\u001b[39m \u001b[38;5;241m1\u001b[39m\n",
      "\u001b[0;31mKeyError\u001b[0m: 'features'"
     ]
    }
   ],
   "source": [
    "import requests\n",
    "from collections import defaultdict\n",
    "\n",
    "# API-Endpoint\n",
    "URL = \"https://api3.geo.admin.ch/rest/services/api/MapServer/ch.astra.unfaelle-personenschaeden_alle\"\n",
    "\n",
    "# API-Anfrage\n",
    "response = requests.get(URL)\n",
    "data = response.json()\n",
    "\n",
    "# Ein Dictionary zur Zählung der Unfälle je nach Tageszeit\n",
    "accidents_by_time = defaultdict(int)\n",
    "\n",
    "# Gehe durch alle Unfalldaten\n",
    "for feature in data[\"features\"]:\n",
    "    # Die Annahme hier ist, dass es ein Attribut namens 'time' (oder ähnlich) gibt, das die Tageszeit des Unfalls angibt.\n",
    "    # Der genaue Attributname muss anhand der tatsächlichen Datenstruktur angepasst werden.\n",
    "    time_of_accident = feature[\"properties\"][\"time\"]  # Dies muss angepasst werden, je nach tatsächlichem Attributnamen\n",
    "    accidents_by_time[time_of_accident] += 1\n",
    "\n",
    "# Finden Sie die Tageszeit mit den meisten Unfällen\n",
    "most_accidents_time = max(accidents_by_time, key=accidents_by_time.get)\n",
    "print(f\"Die Tageszeit mit den meisten Unfällen ist: {most_accidents_time}\")\n"
   ]
  },
  {
   "cell_type": "markdown",
   "id": "b3dde3d2",
   "metadata": {},
   "source": [
    "# Strassenlärm in Biel"
   ]
  },
  {
   "cell_type": "code",
   "execution_count": 57,
   "id": "930e014b",
   "metadata": {},
   "outputs": [
    {
     "name": "stdout",
     "output_type": "stream",
     "text": [
      "e110_belastungen\n",
      "e110_emissionen\n"
     ]
    }
   ],
   "source": [
    "import requests\n",
    "import pandas as pd\n",
    "\n",
    "laerm = requests.get(\"https://sig.biel-bienne.ch/datastore/E110_Strassenlaerm-Bruit_routier/e110_strassenlaerm.json\")\n",
    "laerm = laerm.json()\n",
    "\n",
    "\n",
    "#Create a DataFrame and inspect the data\n",
    "#df = pd.DataFrame(laerm['e110_belastungen']['e110_emissionen'])\n",
    "#print(df.head())\n",
    "\n",
    "\n",
    "for elements in laerm:\n",
    "    print(elements)"
   ]
  },
  {
   "cell_type": "code",
   "execution_count": 60,
   "id": "004813cc",
   "metadata": {},
   "outputs": [
    {
     "name": "stdout",
     "output_type": "stream",
     "text": [
      "type\n",
      "features\n"
     ]
    }
   ],
   "source": [
    "for elem in laerm[\"e110_belastungen\"]:\n",
    "    print(elem)"
   ]
  },
  {
   "cell_type": "code",
   "execution_count": 62,
   "id": "57397188",
   "metadata": {},
   "outputs": [
    {
     "data": {
      "text/plain": [
       "8938"
      ]
     },
     "execution_count": 62,
     "metadata": {},
     "output_type": "execute_result"
    }
   ],
   "source": [
    "len(laerm[\"e110_belastungen\"]['features'])"
   ]
  },
  {
   "cell_type": "markdown",
   "id": "7bad562c",
   "metadata": {},
   "source": [
    "# Verkehrs APIs"
   ]
  },
  {
   "cell_type": "code",
   "execution_count": 64,
   "id": "c2808f45",
   "metadata": {},
   "outputs": [
    {
     "name": "stdout",
     "output_type": "stream",
     "text": [
      "Die geschätzte Reisedauer von Genf nach St. Moritz beträgt 00d06:35:00.\n"
     ]
    }
   ],
   "source": [
    "import requests\n",
    "\n",
    "def get_reisezeit(from_station, to_station):\n",
    "    # Basis-URL der API\n",
    "    BASE_URL = \"http://transport.opendata.ch/v1/connections\"\n",
    "\n",
    "    # API-Anfrage für Verbindungen zwischen den beiden Stationen\n",
    "    response = requests.get(BASE_URL, params={\"from\": from_station, \"to\": to_station})\n",
    "    data = response.json()\n",
    "\n",
    "    # Hole die Reisedauer aus den Daten\n",
    "    # Annahme: Es wird die Reisedauer der ersten verfügbaren Verbindung genommen\n",
    "    if \"connections\" in data and len(data[\"connections\"]) > 0:\n",
    "        duration = data[\"connections\"][0][\"duration\"]\n",
    "        return duration\n",
    "    else:\n",
    "        return None\n",
    "\n",
    "from_station = \"Genf\"\n",
    "to_station = \"St. Moritz\"\n",
    "duration = get_reisezeit(from_station, to_station)\n",
    "\n",
    "if duration:\n",
    "    print(f\"Die geschätzte Reisedauer von {from_station} nach {to_station} beträgt {duration}.\")\n",
    "else:\n",
    "    print(f\"Keine Verbindungsdaten gefunden von {from_station} nach {to_station}.\")\n"
   ]
  },
  {
   "cell_type": "code",
   "execution_count": null,
   "id": "52b017f4",
   "metadata": {},
   "outputs": [],
   "source": []
  }
 ],
 "metadata": {
  "kernelspec": {
   "display_name": "Python 3 (ipykernel)",
   "language": "python",
   "name": "python3"
  },
  "language_info": {
   "codemirror_mode": {
    "name": "ipython",
    "version": 3
   },
   "file_extension": ".py",
   "mimetype": "text/x-python",
   "name": "python",
   "nbconvert_exporter": "python",
   "pygments_lexer": "ipython3",
   "version": "3.11.4"
  }
 },
 "nbformat": 4,
 "nbformat_minor": 5
}
