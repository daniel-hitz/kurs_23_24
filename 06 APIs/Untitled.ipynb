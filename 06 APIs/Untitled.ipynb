{
 "cells": [
  {
   "cell_type": "markdown",
   "id": "c13c4693",
   "metadata": {},
   "source": [
    "# Einführung in BeautifulSoup, einlesen von Files"
   ]
  },
  {
   "cell_type": "code",
   "execution_count": 1,
   "id": "914b8631",
   "metadata": {},
   "outputs": [],
   "source": [
    "import requests\n",
    "from bs4 import BeautifulSoup\n",
    "import pandas as pd"
   ]
  },
  {
   "cell_type": "markdown",
   "id": "5fbe8586",
   "metadata": {},
   "source": [
    "Schauen wir uns zuerst die Dokumentation von BeautifulSoup an."
   ]
  },
  {
   "cell_type": "code",
   "execution_count": 3,
   "id": "2960f06a",
   "metadata": {},
   "outputs": [],
   "source": [
    "#laden wir die Frontpage von Watson\n",
    "r = requests.get('https://www.watson.ch')\n",
    "contents = r.text #Wir lesen den Inhalt aus\n",
    "soup = BeautifulSoup(contents,\"html.parser\")"
   ]
  },
  {
   "cell_type": "code",
   "execution_count": 14,
   "id": "ace3ea8b",
   "metadata": {},
   "outputs": [
    {
     "data": {
      "text/plain": [
       "'\\n\\n\\n\\t\\t\\t\\t\\tVergiss Sex und Drogen! Jetzt fällt der nächste Touristentyp über Amsterdam her\\t\\t\\t\\t\\n\\n\\n\\n\\n\\n\\n\\n\\n\\n\\n\\n'"
      ]
     },
     "execution_count": 14,
     "metadata": {},
     "output_type": "execute_result"
    }
   ],
   "source": [
    "soup.find_all('div', {'class':'text'})[0].text #class und text finde ich in den Entwicklertools der Site"
   ]
  },
  {
   "cell_type": "code",
   "execution_count": 13,
   "id": "b77e7fd6",
   "metadata": {},
   "outputs": [
    {
     "data": {
      "text/plain": [
       "104"
      ]
     },
     "execution_count": 13,
     "metadata": {},
     "output_type": "execute_result"
    }
   ],
   "source": [
    "len(soup.find_all('div', {'class':'text'})) #so viele Titel sind auf der Seite"
   ]
  },
  {
   "cell_type": "code",
   "execution_count": 5,
   "id": "2862c901",
   "metadata": {},
   "outputs": [],
   "source": [
    "text_liste = []\n",
    "for txt in soup.find_all('div', {'class':'text'}):\n",
    "    text_liste.append(txt.text.strip())"
   ]
  },
  {
   "cell_type": "code",
   "execution_count": 6,
   "id": "558fcb0a",
   "metadata": {},
   "outputs": [],
   "source": [
    "df = pd.DataFrame(text_liste)"
   ]
  },
  {
   "cell_type": "code",
   "execution_count": 7,
   "id": "b1ca91b1",
   "metadata": {},
   "outputs": [
    {
     "data": {
      "text/html": [
       "<div>\n",
       "<style scoped>\n",
       "    .dataframe tbody tr th:only-of-type {\n",
       "        vertical-align: middle;\n",
       "    }\n",
       "\n",
       "    .dataframe tbody tr th {\n",
       "        vertical-align: top;\n",
       "    }\n",
       "\n",
       "    .dataframe thead th {\n",
       "        text-align: right;\n",
       "    }\n",
       "</style>\n",
       "<table border=\"1\" class=\"dataframe\">\n",
       "  <thead>\n",
       "    <tr style=\"text-align: right;\">\n",
       "      <th></th>\n",
       "      <th>0</th>\n",
       "    </tr>\n",
       "  </thead>\n",
       "  <tbody>\n",
       "    <tr>\n",
       "      <th>0</th>\n",
       "      <td>Vergiss Sex und Drogen! Jetzt fällt der nächst...</td>\n",
       "    </tr>\n",
       "    <tr>\n",
       "      <th>1</th>\n",
       "      <td>Rauszeit\\n\\n\\n\\n\\t\\t\\t\\t\\tHier hat die Natur g...</td>\n",
       "    </tr>\n",
       "    <tr>\n",
       "      <th>2</th>\n",
       "      <td>Nach Böhmermann-Recherche wird Chef-Beamte ent...</td>\n",
       "    </tr>\n",
       "    <tr>\n",
       "      <th>3</th>\n",
       "      <td>Der Eismeister-Check\\n\\n\\n\\n\\t\\t\\t\\t\\tDas Mott...</td>\n",
       "    </tr>\n",
       "    <tr>\n",
       "      <th>4</th>\n",
       "      <td>25-Meter-Riss in der Decke: Gotthard-Tunnel bl...</td>\n",
       "    </tr>\n",
       "  </tbody>\n",
       "</table>\n",
       "</div>"
      ],
      "text/plain": [
       "                                                   0\n",
       "0  Vergiss Sex und Drogen! Jetzt fällt der nächst...\n",
       "1  Rauszeit\\n\\n\\n\\n\\t\\t\\t\\t\\tHier hat die Natur g...\n",
       "2  Nach Böhmermann-Recherche wird Chef-Beamte ent...\n",
       "3  Der Eismeister-Check\\n\\n\\n\\n\\t\\t\\t\\t\\tDas Mott...\n",
       "4  25-Meter-Riss in der Decke: Gotthard-Tunnel bl..."
      ]
     },
     "execution_count": 7,
     "metadata": {},
     "output_type": "execute_result"
    }
   ],
   "source": [
    "df.head()"
   ]
  },
  {
   "cell_type": "code",
   "execution_count": 8,
   "id": "f8d63ebf",
   "metadata": {},
   "outputs": [],
   "source": [
    "pd.set_option(\"max_colwidth\", 150)"
   ]
  },
  {
   "cell_type": "code",
   "execution_count": 9,
   "id": "8dc0bd8c",
   "metadata": {},
   "outputs": [
    {
     "data": {
      "text/html": [
       "<div>\n",
       "<style scoped>\n",
       "    .dataframe tbody tr th:only-of-type {\n",
       "        vertical-align: middle;\n",
       "    }\n",
       "\n",
       "    .dataframe tbody tr th {\n",
       "        vertical-align: top;\n",
       "    }\n",
       "\n",
       "    .dataframe thead th {\n",
       "        text-align: right;\n",
       "    }\n",
       "</style>\n",
       "<table border=\"1\" class=\"dataframe\">\n",
       "  <thead>\n",
       "    <tr style=\"text-align: right;\">\n",
       "      <th></th>\n",
       "      <th>0</th>\n",
       "    </tr>\n",
       "  </thead>\n",
       "  <tbody>\n",
       "    <tr>\n",
       "      <th>0</th>\n",
       "      <td>Vergiss Sex und Drogen! Jetzt fällt der nächste Touristentyp über Amsterdam her</td>\n",
       "    </tr>\n",
       "    <tr>\n",
       "      <th>1</th>\n",
       "      <td>Rauszeit\\n\\n\\n\\n\\t\\t\\t\\t\\tHier hat die Natur gezaubert: 7 Felslöcher in den Schweizer Bergen (Teil 2)\\t\\t\\t\\t\\nvon Reto Fehr</td>\n",
       "    </tr>\n",
       "    <tr>\n",
       "      <th>2</th>\n",
       "      <td>Nach Böhmermann-Recherche wird Chef-Beamte entlassen – nun fordert der Geld\\t\\t\\t\\t\\nvon Vera Siebnich</td>\n",
       "    </tr>\n",
       "    <tr>\n",
       "      <th>3</th>\n",
       "      <td>Der Eismeister-Check\\n\\n\\n\\n\\t\\t\\t\\t\\tDas Motto der ZSC Lions: Denis Malgin ist zurück, also sind wir\\t\\t\\t\\t\\nvon Klaus Zaugg</td>\n",
       "    </tr>\n",
       "    <tr>\n",
       "      <th>4</th>\n",
       "      <td>25-Meter-Riss in der Decke: Gotthard-Tunnel bleibt gesperrt – was bislang bekannt ist</td>\n",
       "    </tr>\n",
       "  </tbody>\n",
       "</table>\n",
       "</div>"
      ],
      "text/plain": [
       "                                                                                                                                0\n",
       "0                                                 Vergiss Sex und Drogen! Jetzt fällt der nächste Touristentyp über Amsterdam her\n",
       "1    Rauszeit\\n\\n\\n\\n\\t\\t\\t\\t\\tHier hat die Natur gezaubert: 7 Felslöcher in den Schweizer Bergen (Teil 2)\\t\\t\\t\\t\\nvon Reto Fehr\n",
       "2                          Nach Böhmermann-Recherche wird Chef-Beamte entlassen – nun fordert der Geld\\t\\t\\t\\t\\nvon Vera Siebnich\n",
       "3  Der Eismeister-Check\\n\\n\\n\\n\\t\\t\\t\\t\\tDas Motto der ZSC Lions: Denis Malgin ist zurück, also sind wir\\t\\t\\t\\t\\nvon Klaus Zaugg\n",
       "4                                           25-Meter-Riss in der Decke: Gotthard-Tunnel bleibt gesperrt – was bislang bekannt ist"
      ]
     },
     "execution_count": 9,
     "metadata": {},
     "output_type": "execute_result"
    }
   ],
   "source": [
    "df.head()"
   ]
  },
  {
   "cell_type": "markdown",
   "id": "ecff3b19",
   "metadata": {},
   "source": [
    "# Jetzt, packe alles in eine Funktion"
   ]
  },
  {
   "cell_type": "markdown",
   "id": "3a852dbe",
   "metadata": {},
   "source": [
    "Wenn man sehr ausführlichen Code entwickelt, ist es oft praktisch, mit Funktionen zu arbeiten. Versuche es selber"
   ]
  },
  {
   "cell_type": "code",
   "execution_count": 17,
   "id": "e5892a73",
   "metadata": {},
   "outputs": [],
   "source": [
    "url = \"https://www.watson.ch/\"\n",
    "def titel_auslesen(url):\n",
    "    return df.head()"
   ]
  },
  {
   "cell_type": "code",
   "execution_count": 19,
   "id": "3ad0b2f7",
   "metadata": {},
   "outputs": [
    {
     "data": {
      "text/html": [
       "<div>\n",
       "<style scoped>\n",
       "    .dataframe tbody tr th:only-of-type {\n",
       "        vertical-align: middle;\n",
       "    }\n",
       "\n",
       "    .dataframe tbody tr th {\n",
       "        vertical-align: top;\n",
       "    }\n",
       "\n",
       "    .dataframe thead th {\n",
       "        text-align: right;\n",
       "    }\n",
       "</style>\n",
       "<table border=\"1\" class=\"dataframe\">\n",
       "  <thead>\n",
       "    <tr style=\"text-align: right;\">\n",
       "      <th></th>\n",
       "      <th>0</th>\n",
       "    </tr>\n",
       "  </thead>\n",
       "  <tbody>\n",
       "    <tr>\n",
       "      <th>0</th>\n",
       "      <td>Vergiss Sex und Drogen! Jetzt fällt der nächste Touristentyp über Amsterdam her</td>\n",
       "    </tr>\n",
       "    <tr>\n",
       "      <th>1</th>\n",
       "      <td>Rauszeit\\n\\n\\n\\n\\t\\t\\t\\t\\tHier hat die Natur gezaubert: 7 Felslöcher in den Schweizer Bergen (Teil 2)\\t\\t\\t\\t\\nvon Reto Fehr</td>\n",
       "    </tr>\n",
       "    <tr>\n",
       "      <th>2</th>\n",
       "      <td>Nach Böhmermann-Recherche wird Chef-Beamte entlassen – nun fordert der Geld\\t\\t\\t\\t\\nvon Vera Siebnich</td>\n",
       "    </tr>\n",
       "    <tr>\n",
       "      <th>3</th>\n",
       "      <td>Der Eismeister-Check\\n\\n\\n\\n\\t\\t\\t\\t\\tDas Motto der ZSC Lions: Denis Malgin ist zurück, also sind wir\\t\\t\\t\\t\\nvon Klaus Zaugg</td>\n",
       "    </tr>\n",
       "    <tr>\n",
       "      <th>4</th>\n",
       "      <td>25-Meter-Riss in der Decke: Gotthard-Tunnel bleibt gesperrt – was bislang bekannt ist</td>\n",
       "    </tr>\n",
       "  </tbody>\n",
       "</table>\n",
       "</div>"
      ],
      "text/plain": [
       "                                                                                                                                0\n",
       "0                                                 Vergiss Sex und Drogen! Jetzt fällt der nächste Touristentyp über Amsterdam her\n",
       "1    Rauszeit\\n\\n\\n\\n\\t\\t\\t\\t\\tHier hat die Natur gezaubert: 7 Felslöcher in den Schweizer Bergen (Teil 2)\\t\\t\\t\\t\\nvon Reto Fehr\n",
       "2                          Nach Böhmermann-Recherche wird Chef-Beamte entlassen – nun fordert der Geld\\t\\t\\t\\t\\nvon Vera Siebnich\n",
       "3  Der Eismeister-Check\\n\\n\\n\\n\\t\\t\\t\\t\\tDas Motto der ZSC Lions: Denis Malgin ist zurück, also sind wir\\t\\t\\t\\t\\nvon Klaus Zaugg\n",
       "4                                           25-Meter-Riss in der Decke: Gotthard-Tunnel bleibt gesperrt – was bislang bekannt ist"
      ]
     },
     "execution_count": 19,
     "metadata": {},
     "output_type": "execute_result"
    }
   ],
   "source": [
    "titel_auslesen('https://www.watson.ch/')"
   ]
  },
  {
   "cell_type": "markdown",
   "id": "4cacc59b",
   "metadata": {},
   "source": [
    "# oder"
   ]
  },
  {
   "cell_type": "code",
   "execution_count": 33,
   "id": "a4ec9173",
   "metadata": {},
   "outputs": [],
   "source": [
    "def titel_auslesen(url):\n",
    "    \n",
    "    import requests\n",
    "    import pandas as pd\n",
    "    \n",
    "    r = requests.get(str(url))\n",
    "    contents = r.text\n",
    "    soup = BeautifulSoup(contents,\"html.parser\")\n",
    "    \n",
    "    text_liste = []\n",
    "    for txt in soup.find_all (\"div\", {\"class\" : \"text\"}):\n",
    "        text_liste.append(txt.text.strip())\n",
    "        \n",
    "    \n",
    "    return df\n",
    "    "
   ]
  },
  {
   "cell_type": "code",
   "execution_count": 34,
   "id": "ca34db7b",
   "metadata": {},
   "outputs": [
    {
     "data": {
      "text/html": [
       "<div>\n",
       "<style scoped>\n",
       "    .dataframe tbody tr th:only-of-type {\n",
       "        vertical-align: middle;\n",
       "    }\n",
       "\n",
       "    .dataframe tbody tr th {\n",
       "        vertical-align: top;\n",
       "    }\n",
       "\n",
       "    .dataframe thead th {\n",
       "        text-align: right;\n",
       "    }\n",
       "</style>\n",
       "<table border=\"1\" class=\"dataframe\">\n",
       "  <thead>\n",
       "    <tr style=\"text-align: right;\">\n",
       "      <th></th>\n",
       "      <th>0</th>\n",
       "    </tr>\n",
       "  </thead>\n",
       "  <tbody>\n",
       "    <tr>\n",
       "      <th>0</th>\n",
       "      <td>Vergiss Sex und Drogen! Jetzt fällt der nächste Touristentyp über Amsterdam her</td>\n",
       "    </tr>\n",
       "    <tr>\n",
       "      <th>1</th>\n",
       "      <td>Rauszeit\\n\\n\\n\\n\\t\\t\\t\\t\\tHier hat die Natur gezaubert: 7 Felslöcher in den Schweizer Bergen (Teil 2)\\t\\t\\t\\t\\nvon Reto Fehr</td>\n",
       "    </tr>\n",
       "    <tr>\n",
       "      <th>2</th>\n",
       "      <td>Nach Böhmermann-Recherche wird Chef-Beamte entlassen – nun fordert der Geld\\t\\t\\t\\t\\nvon Vera Siebnich</td>\n",
       "    </tr>\n",
       "    <tr>\n",
       "      <th>3</th>\n",
       "      <td>Der Eismeister-Check\\n\\n\\n\\n\\t\\t\\t\\t\\tDas Motto der ZSC Lions: Denis Malgin ist zurück, also sind wir\\t\\t\\t\\t\\nvon Klaus Zaugg</td>\n",
       "    </tr>\n",
       "    <tr>\n",
       "      <th>4</th>\n",
       "      <td>25-Meter-Riss in der Decke: Gotthard-Tunnel bleibt gesperrt – was bislang bekannt ist</td>\n",
       "    </tr>\n",
       "    <tr>\n",
       "      <th>...</th>\n",
       "      <td>...</td>\n",
       "    </tr>\n",
       "    <tr>\n",
       "      <th>99</th>\n",
       "      <td>Kommentar\\n\\n\\n\\n\\t\\t\\t\\t\\tIch bestellte einen Katzenbaum und bekam ein TV-Möbel – welches ich nicht mehr loswerde\\t\\t\\t\\t\\nvon Juliette Baur</td>\n",
       "    </tr>\n",
       "    <tr>\n",
       "      <th>100</th>\n",
       "      <td>Blogs\\nLink zu Blogs</td>\n",
       "    </tr>\n",
       "    <tr>\n",
       "      <th>101</th>\n",
       "      <td>Move on up\\n\\n\\n\\n\\t\\t\\t\\t\\tSo transportierst du deinen Hund sicher im Auto\\t\\t\\t\\t\\nvon Mobilitätsteam TCS</td>\n",
       "    </tr>\n",
       "    <tr>\n",
       "      <th>102</th>\n",
       "      <td>Zugestiegen\\n\\n\\n\\n\\t\\t\\t\\t\\tTierisch schön unterwegs\\t\\t\\t\\t\\nvon Noëlle König</td>\n",
       "    </tr>\n",
       "    <tr>\n",
       "      <th>103</th>\n",
       "      <td>Und Tschüss\\n\\n\\n\\n\\t\\t\\t\\t\\t6 Fragen, um deine Trauminsel auf den Malediven zu finden\\t\\t\\t\\t\\nvon team itscoop.ch</td>\n",
       "    </tr>\n",
       "  </tbody>\n",
       "</table>\n",
       "<p>104 rows × 1 columns</p>\n",
       "</div>"
      ],
      "text/plain": [
       "                                                                                                                                                 0\n",
       "0                                                                  Vergiss Sex und Drogen! Jetzt fällt der nächste Touristentyp über Amsterdam her\n",
       "1                     Rauszeit\\n\\n\\n\\n\\t\\t\\t\\t\\tHier hat die Natur gezaubert: 7 Felslöcher in den Schweizer Bergen (Teil 2)\\t\\t\\t\\t\\nvon Reto Fehr\n",
       "2                                           Nach Böhmermann-Recherche wird Chef-Beamte entlassen – nun fordert der Geld\\t\\t\\t\\t\\nvon Vera Siebnich\n",
       "3                   Der Eismeister-Check\\n\\n\\n\\n\\t\\t\\t\\t\\tDas Motto der ZSC Lions: Denis Malgin ist zurück, also sind wir\\t\\t\\t\\t\\nvon Klaus Zaugg\n",
       "4                                                            25-Meter-Riss in der Decke: Gotthard-Tunnel bleibt gesperrt – was bislang bekannt ist\n",
       "..                                                                                                                                             ...\n",
       "99   Kommentar\\n\\n\\n\\n\\t\\t\\t\\t\\tIch bestellte einen Katzenbaum und bekam ein TV-Möbel – welches ich nicht mehr loswerde\\t\\t\\t\\t\\nvon Juliette Baur\n",
       "100                                                                                                                           Blogs\\nLink zu Blogs\n",
       "101                                    Move on up\\n\\n\\n\\n\\t\\t\\t\\t\\tSo transportierst du deinen Hund sicher im Auto\\t\\t\\t\\t\\nvon Mobilitätsteam TCS\n",
       "102                                                                Zugestiegen\\n\\n\\n\\n\\t\\t\\t\\t\\tTierisch schön unterwegs\\t\\t\\t\\t\\nvon Noëlle König\n",
       "103                            Und Tschüss\\n\\n\\n\\n\\t\\t\\t\\t\\t6 Fragen, um deine Trauminsel auf den Malediven zu finden\\t\\t\\t\\t\\nvon team itscoop.ch\n",
       "\n",
       "[104 rows x 1 columns]"
      ]
     },
     "execution_count": 34,
     "metadata": {},
     "output_type": "execute_result"
    }
   ],
   "source": [
    "titel_auslesen (\"https://www.watson.ch/\")"
   ]
  },
  {
   "cell_type": "code",
   "execution_count": null,
   "id": "a35b6f69",
   "metadata": {},
   "outputs": [],
   "source": []
  },
  {
   "cell_type": "markdown",
   "id": "75b7d06f",
   "metadata": {},
   "source": [
    "# Scrapen wir Inhalte aus dem File, das ihr lokal kreiert habt"
   ]
  },
  {
   "cell_type": "code",
   "execution_count": null,
   "id": "6eb0f930",
   "metadata": {},
   "outputs": [],
   "source": [
    "with open('test.html', 'r') as file:\n",
    "    content = file.read()"
   ]
  },
  {
   "cell_type": "code",
   "execution_count": null,
   "id": "18e41d81",
   "metadata": {},
   "outputs": [],
   "source": []
  },
  {
   "cell_type": "code",
   "execution_count": null,
   "id": "dac5cca8",
   "metadata": {},
   "outputs": [],
   "source": []
  },
  {
   "cell_type": "markdown",
   "id": "980b5e0a",
   "metadata": {},
   "source": [
    "# Welche Websites wollt ihr scrapen?"
   ]
  },
  {
   "cell_type": "markdown",
   "id": "fe143f52",
   "metadata": {},
   "source": [
    "Erstelle dafür eine Skizze, was ihr scrapen wollt und in welcher Form ihr es haben wollt. Wenn ihr keine Website habt, dann übt mit Übung 2."
   ]
  },
  {
   "cell_type": "code",
   "execution_count": null,
   "id": "da7d3251",
   "metadata": {},
   "outputs": [],
   "source": []
  },
  {
   "cell_type": "code",
   "execution_count": null,
   "id": "9d2ab702",
   "metadata": {},
   "outputs": [],
   "source": []
  },
  {
   "cell_type": "code",
   "execution_count": null,
   "id": "8d890bb3",
   "metadata": {},
   "outputs": [],
   "source": []
  }
 ],
 "metadata": {
  "kernelspec": {
   "display_name": "Python 3 (ipykernel)",
   "language": "python",
   "name": "python3"
  },
  "language_info": {
   "codemirror_mode": {
    "name": "ipython",
    "version": 3
   },
   "file_extension": ".py",
   "mimetype": "text/x-python",
   "name": "python",
   "nbconvert_exporter": "python",
   "pygments_lexer": "ipython3",
   "version": "3.11.4"
  }
 },
 "nbformat": 4,
 "nbformat_minor": 5
}
