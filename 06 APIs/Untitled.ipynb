{
 "cells": [
  {
   "cell_type": "markdown",
   "id": "9dc87fb4",
   "metadata": {},
   "source": [
    "# Einführung in BeautifulSoup, einlesen von Files"
   ]
  },
  {
   "cell_type": "code",
   "execution_count": 1,
   "id": "db4b8211",
   "metadata": {},
   "outputs": [],
   "source": [
    "import requests\n",
    "from bs4 import BeautifulSoup\n",
    "import pandas as pd"
   ]
  },
  {
   "cell_type": "markdown",
   "id": "3f0bffcb",
   "metadata": {},
   "source": [
    "Schauen wir uns zuerst die Dokumentation von BeautifulSoup an."
   ]
  },
  {
   "cell_type": "code",
   "execution_count": 3,
   "id": "24f278e0",
   "metadata": {},
   "outputs": [],
   "source": [
    "#laden wir die Frontpage von Watson\n",
    "r = requests.get('https://www.watson.ch')\n",
    "contents = r.text #Wir lesen den Inhalt aus\n",
    "soup = BeautifulSoup(contents,\"html.parser\")"
   ]
  },
  {
   "cell_type": "code",
   "execution_count": 4,
   "id": "c9f55972",
   "metadata": {},
   "outputs": [
    {
     "data": {
      "text/plain": [
       "'\\n\\nRauszeit\\n\\n\\n\\n\\t\\t\\t\\t\\tHier hat die Natur gezaubert: 7 Felslöcher in den Schweizer Bergen (Teil 2)\\t\\t\\t\\t\\nvon Reto Fehr\\n\\n\\n\\n\\n'"
      ]
     },
     "execution_count": 4,
     "metadata": {},
     "output_type": "execute_result"
    }
   ],
   "source": [
    "soup.find_all('div', {'class':'text'})[1].text"
   ]
  },
  {
   "cell_type": "code",
   "execution_count": 5,
   "id": "e2a4ff4e",
   "metadata": {},
   "outputs": [],
   "source": [
    "text_liste = []\n",
    "for txt in soup.find_all('div', {'class':'text'}):\n",
    "    text_liste.append(txt.text.strip())"
   ]
  },
  {
   "cell_type": "code",
   "execution_count": 6,
   "id": "8bc8e1a6",
   "metadata": {},
   "outputs": [],
   "source": [
    "df = pd.DataFrame(text_liste)"
   ]
  },
  {
   "cell_type": "code",
   "execution_count": 7,
   "id": "a3bf3657",
   "metadata": {},
   "outputs": [
    {
     "data": {
      "text/html": [
       "<div>\n",
       "<style scoped>\n",
       "    .dataframe tbody tr th:only-of-type {\n",
       "        vertical-align: middle;\n",
       "    }\n",
       "\n",
       "    .dataframe tbody tr th {\n",
       "        vertical-align: top;\n",
       "    }\n",
       "\n",
       "    .dataframe thead th {\n",
       "        text-align: right;\n",
       "    }\n",
       "</style>\n",
       "<table border=\"1\" class=\"dataframe\">\n",
       "  <thead>\n",
       "    <tr style=\"text-align: right;\">\n",
       "      <th></th>\n",
       "      <th>0</th>\n",
       "    </tr>\n",
       "  </thead>\n",
       "  <tbody>\n",
       "    <tr>\n",
       "      <th>0</th>\n",
       "      <td>Vergiss Sex und Drogen! Jetzt fällt der nächst...</td>\n",
       "    </tr>\n",
       "    <tr>\n",
       "      <th>1</th>\n",
       "      <td>Rauszeit\\n\\n\\n\\n\\t\\t\\t\\t\\tHier hat die Natur g...</td>\n",
       "    </tr>\n",
       "    <tr>\n",
       "      <th>2</th>\n",
       "      <td>Nach Böhmermann-Recherche wird Chef-Beamte ent...</td>\n",
       "    </tr>\n",
       "    <tr>\n",
       "      <th>3</th>\n",
       "      <td>Der Eismeister-Check\\n\\n\\n\\n\\t\\t\\t\\t\\tDas Mott...</td>\n",
       "    </tr>\n",
       "    <tr>\n",
       "      <th>4</th>\n",
       "      <td>25-Meter-Riss in der Decke: Gotthard-Tunnel bl...</td>\n",
       "    </tr>\n",
       "  </tbody>\n",
       "</table>\n",
       "</div>"
      ],
      "text/plain": [
       "                                                   0\n",
       "0  Vergiss Sex und Drogen! Jetzt fällt der nächst...\n",
       "1  Rauszeit\\n\\n\\n\\n\\t\\t\\t\\t\\tHier hat die Natur g...\n",
       "2  Nach Böhmermann-Recherche wird Chef-Beamte ent...\n",
       "3  Der Eismeister-Check\\n\\n\\n\\n\\t\\t\\t\\t\\tDas Mott...\n",
       "4  25-Meter-Riss in der Decke: Gotthard-Tunnel bl..."
      ]
     },
     "execution_count": 7,
     "metadata": {},
     "output_type": "execute_result"
    }
   ],
   "source": [
    "df.head()"
   ]
  },
  {
   "cell_type": "code",
   "execution_count": 8,
   "id": "47c5d99c",
   "metadata": {},
   "outputs": [],
   "source": [
    "pd.set_option(\"max_colwidth\", 150)"
   ]
  },
  {
   "cell_type": "code",
   "execution_count": 9,
   "id": "d8817c8b",
   "metadata": {},
   "outputs": [
    {
     "data": {
      "text/html": [
       "<div>\n",
       "<style scoped>\n",
       "    .dataframe tbody tr th:only-of-type {\n",
       "        vertical-align: middle;\n",
       "    }\n",
       "\n",
       "    .dataframe tbody tr th {\n",
       "        vertical-align: top;\n",
       "    }\n",
       "\n",
       "    .dataframe thead th {\n",
       "        text-align: right;\n",
       "    }\n",
       "</style>\n",
       "<table border=\"1\" class=\"dataframe\">\n",
       "  <thead>\n",
       "    <tr style=\"text-align: right;\">\n",
       "      <th></th>\n",
       "      <th>0</th>\n",
       "    </tr>\n",
       "  </thead>\n",
       "  <tbody>\n",
       "    <tr>\n",
       "      <th>0</th>\n",
       "      <td>Vergiss Sex und Drogen! Jetzt fällt der nächste Touristentyp über Amsterdam her</td>\n",
       "    </tr>\n",
       "    <tr>\n",
       "      <th>1</th>\n",
       "      <td>Rauszeit\\n\\n\\n\\n\\t\\t\\t\\t\\tHier hat die Natur gezaubert: 7 Felslöcher in den Schweizer Bergen (Teil 2)\\t\\t\\t\\t\\nvon Reto Fehr</td>\n",
       "    </tr>\n",
       "    <tr>\n",
       "      <th>2</th>\n",
       "      <td>Nach Böhmermann-Recherche wird Chef-Beamte entlassen – nun fordert der Geld\\t\\t\\t\\t\\nvon Vera Siebnich</td>\n",
       "    </tr>\n",
       "    <tr>\n",
       "      <th>3</th>\n",
       "      <td>Der Eismeister-Check\\n\\n\\n\\n\\t\\t\\t\\t\\tDas Motto der ZSC Lions: Denis Malgin ist zurück, also sind wir\\t\\t\\t\\t\\nvon Klaus Zaugg</td>\n",
       "    </tr>\n",
       "    <tr>\n",
       "      <th>4</th>\n",
       "      <td>25-Meter-Riss in der Decke: Gotthard-Tunnel bleibt gesperrt – was bislang bekannt ist</td>\n",
       "    </tr>\n",
       "  </tbody>\n",
       "</table>\n",
       "</div>"
      ],
      "text/plain": [
       "                                                                                                                                0\n",
       "0                                                 Vergiss Sex und Drogen! Jetzt fällt der nächste Touristentyp über Amsterdam her\n",
       "1    Rauszeit\\n\\n\\n\\n\\t\\t\\t\\t\\tHier hat die Natur gezaubert: 7 Felslöcher in den Schweizer Bergen (Teil 2)\\t\\t\\t\\t\\nvon Reto Fehr\n",
       "2                          Nach Böhmermann-Recherche wird Chef-Beamte entlassen – nun fordert der Geld\\t\\t\\t\\t\\nvon Vera Siebnich\n",
       "3  Der Eismeister-Check\\n\\n\\n\\n\\t\\t\\t\\t\\tDas Motto der ZSC Lions: Denis Malgin ist zurück, also sind wir\\t\\t\\t\\t\\nvon Klaus Zaugg\n",
       "4                                           25-Meter-Riss in der Decke: Gotthard-Tunnel bleibt gesperrt – was bislang bekannt ist"
      ]
     },
     "execution_count": 9,
     "metadata": {},
     "output_type": "execute_result"
    }
   ],
   "source": [
    "df.head()"
   ]
  },
  {
   "cell_type": "code",
   "execution_count": null,
   "id": "ce4945c1",
   "metadata": {},
   "outputs": [],
   "source": []
  }
 ],
 "metadata": {
  "kernelspec": {
   "display_name": "Python 3 (ipykernel)",
   "language": "python",
   "name": "python3"
  },
  "language_info": {
   "codemirror_mode": {
    "name": "ipython",
    "version": 3
   },
   "file_extension": ".py",
   "mimetype": "text/x-python",
   "name": "python",
   "nbconvert_exporter": "python",
   "pygments_lexer": "ipython3",
   "version": "3.11.4"
  }
 },
 "nbformat": 4,
 "nbformat_minor": 5
}
