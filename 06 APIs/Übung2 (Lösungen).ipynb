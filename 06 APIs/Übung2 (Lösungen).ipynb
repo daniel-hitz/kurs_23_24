{
 "cells": [
  {
   "cell_type": "markdown",
   "metadata": {},
   "source": [
    "# Übung 2"
   ]
  },
  {
   "cell_type": "markdown",
   "metadata": {},
   "source": [
    "#### 1. Importiere requests, BeautifulSoup und Pandas"
   ]
  },
  {
   "cell_type": "code",
   "execution_count": 40,
   "metadata": {},
   "outputs": [],
   "source": [
    "import requests\n",
    "from bs4 import BeautifulSoup\n",
    "import pandas as pd"
   ]
  },
  {
   "cell_type": "markdown",
   "metadata": {},
   "source": [
    "#### 2. Lade den Inhalt des Parkhaus-RSS-Feeds in eine Variabel"
   ]
  },
  {
   "cell_type": "code",
   "execution_count": 41,
   "metadata": {},
   "outputs": [],
   "source": [
    "r = requests.get('https://www.pls-zh.ch/plsFeed/rss') "
   ]
  },
  {
   "cell_type": "markdown",
   "metadata": {},
   "source": [
    "#### 3. Ziehen wir aus dieser alle Daten (Datum) heraus und machen daraus eine Liste"
   ]
  },
  {
   "cell_type": "code",
   "execution_count": 42,
   "metadata": {},
   "outputs": [],
   "source": [
    "soup = BeautifulSoup(r.text, 'html.parser')\n",
    "items_list = soup.find_all('item')\n",
    "date_lst = []\n",
    "for item in items_list:\n",
    "    date_lst.append(item.find('pubdate').text)"
   ]
  },
  {
   "cell_type": "code",
   "execution_count": 43,
   "metadata": {},
   "outputs": [
    {
     "data": {
      "text/plain": [
       "['Tue, 13 Sep 2022 07:57:27 GMT',\n",
       " 'Tue, 13 Sep 2022 07:57:27 GMT',\n",
       " 'Tue, 13 Sep 2022 07:56:27 GMT',\n",
       " 'Tue, 13 Sep 2022 07:58:27 GMT',\n",
       " 'Tue, 13 Sep 2022 07:58:27 GMT']"
      ]
     },
     "execution_count": 43,
     "metadata": {},
     "output_type": "execute_result"
    }
   ],
   "source": [
    "date_lst[:5]"
   ]
  },
  {
   "cell_type": "markdown",
   "metadata": {},
   "source": [
    "#### 4. Ziehen wir alle Links heraus und machen daraus eine Liste"
   ]
  },
  {
   "cell_type": "code",
   "execution_count": 47,
   "metadata": {},
   "outputs": [],
   "source": [
    "link_lst = []\n",
    "for item in items_list:\n",
    "    link_lst.append(item.find('guid').text)"
   ]
  },
  {
   "cell_type": "code",
   "execution_count": 50,
   "metadata": {},
   "outputs": [
    {
     "data": {
      "text/plain": [
       "['https://www.pls-zh.ch/parkhaus/accu.jsp?pid=accu',\n",
       " 'https://www.pls-zh.ch/parkhaus/albisriederplatz.jsp?pid=albisriederplatz',\n",
       " 'https://www.pls-zh.ch/parkhaus/bleicherweg.jsp?pid=bleicherweg',\n",
       " 'https://www.pls-zh.ch/parkhaus/center_11.jsp?pid=center_11',\n",
       " 'https://www.pls-zh.ch/parkhaus/cp.jsp?pid=cp']"
      ]
     },
     "execution_count": 50,
     "metadata": {},
     "output_type": "execute_result"
    }
   ],
   "source": [
    "link_lst[:5]"
   ]
  },
  {
   "cell_type": "markdown",
   "metadata": {},
   "source": [
    "#### 5. Nun bauen wir eine Dictionary aus den beiden Listen mit dem ersten Key \"Datum\" und zweiten Key \"URL\"."
   ]
  },
  {
   "cell_type": "code",
   "execution_count": 52,
   "metadata": {},
   "outputs": [],
   "source": [
    "dct_lst = []\n",
    "for item in items_list:\n",
    "    \n",
    "    link = item.find('guid').text\n",
    "    pubdate = item.find('pubdate').text\n",
    "    \n",
    "    dct = {'Link':link,\n",
    "          'Datum':pubdate}\n",
    "    \n",
    "    dct_lst.append(dct)"
   ]
  },
  {
   "cell_type": "markdown",
   "metadata": {},
   "source": [
    "#### 6. Schliesslich machen wir daraus einen DataFrame (eine für uns Menschen lesbare Tabelle) und speichern das Ergebnis ab."
   ]
  },
  {
   "cell_type": "code",
   "execution_count": 53,
   "metadata": {},
   "outputs": [
    {
     "data": {
      "text/html": [
       "<div>\n",
       "<style scoped>\n",
       "    .dataframe tbody tr th:only-of-type {\n",
       "        vertical-align: middle;\n",
       "    }\n",
       "\n",
       "    .dataframe tbody tr th {\n",
       "        vertical-align: top;\n",
       "    }\n",
       "\n",
       "    .dataframe thead th {\n",
       "        text-align: right;\n",
       "    }\n",
       "</style>\n",
       "<table border=\"1\" class=\"dataframe\">\n",
       "  <thead>\n",
       "    <tr style=\"text-align: right;\">\n",
       "      <th></th>\n",
       "      <th>Link</th>\n",
       "      <th>Datum</th>\n",
       "    </tr>\n",
       "  </thead>\n",
       "  <tbody>\n",
       "    <tr>\n",
       "      <th>0</th>\n",
       "      <td>https://www.pls-zh.ch/parkhaus/accu.jsp?pid=accu</td>\n",
       "      <td>Tue, 13 Sep 2022 07:57:27 GMT</td>\n",
       "    </tr>\n",
       "    <tr>\n",
       "      <th>1</th>\n",
       "      <td>https://www.pls-zh.ch/parkhaus/albisriederplat...</td>\n",
       "      <td>Tue, 13 Sep 2022 07:57:27 GMT</td>\n",
       "    </tr>\n",
       "    <tr>\n",
       "      <th>2</th>\n",
       "      <td>https://www.pls-zh.ch/parkhaus/bleicherweg.jsp...</td>\n",
       "      <td>Tue, 13 Sep 2022 07:56:27 GMT</td>\n",
       "    </tr>\n",
       "    <tr>\n",
       "      <th>3</th>\n",
       "      <td>https://www.pls-zh.ch/parkhaus/center_11.jsp?p...</td>\n",
       "      <td>Tue, 13 Sep 2022 07:58:27 GMT</td>\n",
       "    </tr>\n",
       "    <tr>\n",
       "      <th>4</th>\n",
       "      <td>https://www.pls-zh.ch/parkhaus/cp.jsp?pid=cp</td>\n",
       "      <td>Tue, 13 Sep 2022 07:58:27 GMT</td>\n",
       "    </tr>\n",
       "    <tr>\n",
       "      <th>5</th>\n",
       "      <td>https://www.pls-zh.ch/parkhaus/cityport.jsp?pi...</td>\n",
       "      <td>Tue, 13 Sep 2022 07:57:27 GMT</td>\n",
       "    </tr>\n",
       "    <tr>\n",
       "      <th>6</th>\n",
       "      <td>https://www.pls-zh.ch/parkhaus/crowne_plaza.js...</td>\n",
       "      <td>Tue, 13 Sep 2022 07:58:27 GMT</td>\n",
       "    </tr>\n",
       "    <tr>\n",
       "      <th>7</th>\n",
       "      <td>https://www.pls-zh.ch/parkhaus/dorflinde.jsp?p...</td>\n",
       "      <td>Tue, 13 Sep 2022 07:57:27 GMT</td>\n",
       "    </tr>\n",
       "    <tr>\n",
       "      <th>8</th>\n",
       "      <td>https://www.pls-zh.ch/parkhaus/feldegg.jsp?pid...</td>\n",
       "      <td>Tue, 13 Sep 2022 07:57:28 GMT</td>\n",
       "    </tr>\n",
       "    <tr>\n",
       "      <th>9</th>\n",
       "      <td>https://www.pls-zh.ch/parkhaus/globus.jsp?pid=...</td>\n",
       "      <td>Tue, 13 Sep 2022 07:58:27 GMT</td>\n",
       "    </tr>\n",
       "    <tr>\n",
       "      <th>10</th>\n",
       "      <td>https://www.pls-zh.ch/parkhaus/hardau.jsp?pid=...</td>\n",
       "      <td>Tue, 13 Sep 2022 07:50:27 GMT</td>\n",
       "    </tr>\n",
       "    <tr>\n",
       "      <th>11</th>\n",
       "      <td>https://www.pls-zh.ch/parkhaus/hb.jsp?pid=hb</td>\n",
       "      <td>Tue, 13 Sep 2022 07:57:27 GMT</td>\n",
       "    </tr>\n",
       "    <tr>\n",
       "      <th>12</th>\n",
       "      <td>https://www.pls-zh.ch/parkhaus/helvetia.jsp?pi...</td>\n",
       "      <td>Tue, 13 Sep 2022 07:33:27 GMT</td>\n",
       "    </tr>\n",
       "    <tr>\n",
       "      <th>13</th>\n",
       "      <td>https://www.pls-zh.ch/parkhaus/promenade.jsp?p...</td>\n",
       "      <td>Tue, 13 Sep 2022 07:58:27 GMT</td>\n",
       "    </tr>\n",
       "    <tr>\n",
       "      <th>14</th>\n",
       "      <td>https://www.pls-zh.ch/parkhaus/jelmoli.jsp?pid...</td>\n",
       "      <td>Tue, 13 Sep 2022 07:58:28 GMT</td>\n",
       "    </tr>\n",
       "    <tr>\n",
       "      <th>15</th>\n",
       "      <td>https://www.pls-zh.ch/parkhaus/jungholz.jsp?pi...</td>\n",
       "      <td>Tue, 13 Sep 2022 07:56:27 GMT</td>\n",
       "    </tr>\n",
       "    <tr>\n",
       "      <th>16</th>\n",
       "      <td>https://www.pls-zh.ch/parkhaus/max_bill_platz....</td>\n",
       "      <td>Tue, 13 Sep 2022 07:57:27 GMT</td>\n",
       "    </tr>\n",
       "    <tr>\n",
       "      <th>17</th>\n",
       "      <td>https://www.pls-zh.ch/parkhaus/messe.jsp?pid=m...</td>\n",
       "      <td>Tue, 06 Sep 2022 20:39:27 GMT</td>\n",
       "    </tr>\n",
       "    <tr>\n",
       "      <th>18</th>\n",
       "      <td>https://www.pls-zh.ch/parkhaus/nordhaus.jsp?pi...</td>\n",
       "      <td>Tue, 13 Sep 2022 07:57:27 GMT</td>\n",
       "    </tr>\n",
       "    <tr>\n",
       "      <th>19</th>\n",
       "      <td>https://www.pls-zh.ch/parkhaus/octavo.jsp?pid=...</td>\n",
       "      <td>Tue, 13 Sep 2022 07:53:27 GMT</td>\n",
       "    </tr>\n",
       "    <tr>\n",
       "      <th>20</th>\n",
       "      <td>https://www.pls-zh.ch/parkhaus/opera.jsp?pid=o...</td>\n",
       "      <td>Tue, 13 Sep 2022 07:58:27 GMT</td>\n",
       "    </tr>\n",
       "    <tr>\n",
       "      <th>21</th>\n",
       "      <td>https://www.pls-zh.ch/parkhaus/p_west.jsp?pid=...</td>\n",
       "      <td>Tue, 13 Sep 2022 07:57:27 GMT</td>\n",
       "    </tr>\n",
       "    <tr>\n",
       "      <th>22</th>\n",
       "      <td>https://www.pls-zh.ch/parkhaus/park_hyatt.jsp?...</td>\n",
       "      <td>Tue, 13 Sep 2022 07:58:27 GMT</td>\n",
       "    </tr>\n",
       "    <tr>\n",
       "      <th>23</th>\n",
       "      <td>https://www.pls-zh.ch/parkhaus/parkside.jsp?pi...</td>\n",
       "      <td>Tue, 13 Sep 2022 07:27:27 GMT</td>\n",
       "    </tr>\n",
       "    <tr>\n",
       "      <th>24</th>\n",
       "      <td>https://www.pls-zh.ch/parkhaus/pfingstweid.jsp...</td>\n",
       "      <td>Tue, 13 Sep 2022 07:54:27 GMT</td>\n",
       "    </tr>\n",
       "    <tr>\n",
       "      <th>25</th>\n",
       "      <td>https://www.pls-zh.ch/parkhaus/stampfenbach.js...</td>\n",
       "      <td>Tue, 13 Sep 2022 07:57:27 GMT</td>\n",
       "    </tr>\n",
       "    <tr>\n",
       "      <th>26</th>\n",
       "      <td>https://www.pls-zh.ch/parkhaus/talgarten.jsp?p...</td>\n",
       "      <td>Tue, 13 Sep 2022 07:55:27 GMT</td>\n",
       "    </tr>\n",
       "    <tr>\n",
       "      <th>27</th>\n",
       "      <td>https://www.pls-zh.ch/parkhaus/unispital_nord....</td>\n",
       "      <td>Tue, 13 Sep 2022 07:58:28 GMT</td>\n",
       "    </tr>\n",
       "    <tr>\n",
       "      <th>28</th>\n",
       "      <td>https://www.pls-zh.ch/parkhaus/uni_irchel.jsp?...</td>\n",
       "      <td>Tue, 13 Sep 2022 07:56:27 GMT</td>\n",
       "    </tr>\n",
       "    <tr>\n",
       "      <th>29</th>\n",
       "      <td>https://www.pls-zh.ch/parkhaus/urania.jsp?pid=...</td>\n",
       "      <td>Mon, 12 Sep 2022 19:25:27 GMT</td>\n",
       "    </tr>\n",
       "    <tr>\n",
       "      <th>30</th>\n",
       "      <td>https://www.pls-zh.ch/parkhaus/utoquai.jsp?pid...</td>\n",
       "      <td>Tue, 13 Sep 2022 07:56:27 GMT</td>\n",
       "    </tr>\n",
       "    <tr>\n",
       "      <th>31</th>\n",
       "      <td>https://www.pls-zh.ch/parkhaus/zueri11.jsp?pid...</td>\n",
       "      <td>Tue, 13 Sep 2022 07:58:27 GMT</td>\n",
       "    </tr>\n",
       "    <tr>\n",
       "      <th>32</th>\n",
       "      <td>https://www.pls-zh.ch/parkhaus/zuerichhorn.jsp...</td>\n",
       "      <td>Tue, 13 Sep 2022 07:57:28 GMT</td>\n",
       "    </tr>\n",
       "    <tr>\n",
       "      <th>33</th>\n",
       "      <td>https://www.pls-zh.ch/parkhaus/theater_11.jsp?...</td>\n",
       "      <td>Tue, 13 Sep 2022 07:57:27 GMT</td>\n",
       "    </tr>\n",
       "    <tr>\n",
       "      <th>34</th>\n",
       "      <td>https://www.pls-zh.ch/parkhaus/unispital_sued....</td>\n",
       "      <td>Tue, 13 Sep 2022 07:53:27 GMT</td>\n",
       "    </tr>\n",
       "    <tr>\n",
       "      <th>35</th>\n",
       "      <td>https://www.pls-zh.ch/parkhaus/puls5.jsp?pid=p...</td>\n",
       "      <td>Tue, 13 Sep 2022 07:56:27 GMT</td>\n",
       "    </tr>\n",
       "  </tbody>\n",
       "</table>\n",
       "</div>"
      ],
      "text/plain": [
       "                                                 Link  \\\n",
       "0    https://www.pls-zh.ch/parkhaus/accu.jsp?pid=accu   \n",
       "1   https://www.pls-zh.ch/parkhaus/albisriederplat...   \n",
       "2   https://www.pls-zh.ch/parkhaus/bleicherweg.jsp...   \n",
       "3   https://www.pls-zh.ch/parkhaus/center_11.jsp?p...   \n",
       "4        https://www.pls-zh.ch/parkhaus/cp.jsp?pid=cp   \n",
       "5   https://www.pls-zh.ch/parkhaus/cityport.jsp?pi...   \n",
       "6   https://www.pls-zh.ch/parkhaus/crowne_plaza.js...   \n",
       "7   https://www.pls-zh.ch/parkhaus/dorflinde.jsp?p...   \n",
       "8   https://www.pls-zh.ch/parkhaus/feldegg.jsp?pid...   \n",
       "9   https://www.pls-zh.ch/parkhaus/globus.jsp?pid=...   \n",
       "10  https://www.pls-zh.ch/parkhaus/hardau.jsp?pid=...   \n",
       "11       https://www.pls-zh.ch/parkhaus/hb.jsp?pid=hb   \n",
       "12  https://www.pls-zh.ch/parkhaus/helvetia.jsp?pi...   \n",
       "13  https://www.pls-zh.ch/parkhaus/promenade.jsp?p...   \n",
       "14  https://www.pls-zh.ch/parkhaus/jelmoli.jsp?pid...   \n",
       "15  https://www.pls-zh.ch/parkhaus/jungholz.jsp?pi...   \n",
       "16  https://www.pls-zh.ch/parkhaus/max_bill_platz....   \n",
       "17  https://www.pls-zh.ch/parkhaus/messe.jsp?pid=m...   \n",
       "18  https://www.pls-zh.ch/parkhaus/nordhaus.jsp?pi...   \n",
       "19  https://www.pls-zh.ch/parkhaus/octavo.jsp?pid=...   \n",
       "20  https://www.pls-zh.ch/parkhaus/opera.jsp?pid=o...   \n",
       "21  https://www.pls-zh.ch/parkhaus/p_west.jsp?pid=...   \n",
       "22  https://www.pls-zh.ch/parkhaus/park_hyatt.jsp?...   \n",
       "23  https://www.pls-zh.ch/parkhaus/parkside.jsp?pi...   \n",
       "24  https://www.pls-zh.ch/parkhaus/pfingstweid.jsp...   \n",
       "25  https://www.pls-zh.ch/parkhaus/stampfenbach.js...   \n",
       "26  https://www.pls-zh.ch/parkhaus/talgarten.jsp?p...   \n",
       "27  https://www.pls-zh.ch/parkhaus/unispital_nord....   \n",
       "28  https://www.pls-zh.ch/parkhaus/uni_irchel.jsp?...   \n",
       "29  https://www.pls-zh.ch/parkhaus/urania.jsp?pid=...   \n",
       "30  https://www.pls-zh.ch/parkhaus/utoquai.jsp?pid...   \n",
       "31  https://www.pls-zh.ch/parkhaus/zueri11.jsp?pid...   \n",
       "32  https://www.pls-zh.ch/parkhaus/zuerichhorn.jsp...   \n",
       "33  https://www.pls-zh.ch/parkhaus/theater_11.jsp?...   \n",
       "34  https://www.pls-zh.ch/parkhaus/unispital_sued....   \n",
       "35  https://www.pls-zh.ch/parkhaus/puls5.jsp?pid=p...   \n",
       "\n",
       "                            Datum  \n",
       "0   Tue, 13 Sep 2022 07:57:27 GMT  \n",
       "1   Tue, 13 Sep 2022 07:57:27 GMT  \n",
       "2   Tue, 13 Sep 2022 07:56:27 GMT  \n",
       "3   Tue, 13 Sep 2022 07:58:27 GMT  \n",
       "4   Tue, 13 Sep 2022 07:58:27 GMT  \n",
       "5   Tue, 13 Sep 2022 07:57:27 GMT  \n",
       "6   Tue, 13 Sep 2022 07:58:27 GMT  \n",
       "7   Tue, 13 Sep 2022 07:57:27 GMT  \n",
       "8   Tue, 13 Sep 2022 07:57:28 GMT  \n",
       "9   Tue, 13 Sep 2022 07:58:27 GMT  \n",
       "10  Tue, 13 Sep 2022 07:50:27 GMT  \n",
       "11  Tue, 13 Sep 2022 07:57:27 GMT  \n",
       "12  Tue, 13 Sep 2022 07:33:27 GMT  \n",
       "13  Tue, 13 Sep 2022 07:58:27 GMT  \n",
       "14  Tue, 13 Sep 2022 07:58:28 GMT  \n",
       "15  Tue, 13 Sep 2022 07:56:27 GMT  \n",
       "16  Tue, 13 Sep 2022 07:57:27 GMT  \n",
       "17  Tue, 06 Sep 2022 20:39:27 GMT  \n",
       "18  Tue, 13 Sep 2022 07:57:27 GMT  \n",
       "19  Tue, 13 Sep 2022 07:53:27 GMT  \n",
       "20  Tue, 13 Sep 2022 07:58:27 GMT  \n",
       "21  Tue, 13 Sep 2022 07:57:27 GMT  \n",
       "22  Tue, 13 Sep 2022 07:58:27 GMT  \n",
       "23  Tue, 13 Sep 2022 07:27:27 GMT  \n",
       "24  Tue, 13 Sep 2022 07:54:27 GMT  \n",
       "25  Tue, 13 Sep 2022 07:57:27 GMT  \n",
       "26  Tue, 13 Sep 2022 07:55:27 GMT  \n",
       "27  Tue, 13 Sep 2022 07:58:28 GMT  \n",
       "28  Tue, 13 Sep 2022 07:56:27 GMT  \n",
       "29  Mon, 12 Sep 2022 19:25:27 GMT  \n",
       "30  Tue, 13 Sep 2022 07:56:27 GMT  \n",
       "31  Tue, 13 Sep 2022 07:58:27 GMT  \n",
       "32  Tue, 13 Sep 2022 07:57:28 GMT  \n",
       "33  Tue, 13 Sep 2022 07:57:27 GMT  \n",
       "34  Tue, 13 Sep 2022 07:53:27 GMT  \n",
       "35  Tue, 13 Sep 2022 07:56:27 GMT  "
      ]
     },
     "execution_count": 53,
     "metadata": {},
     "output_type": "execute_result"
    }
   ],
   "source": [
    "pd.DataFrame(dct_lst)"
   ]
  },
  {
   "cell_type": "code",
   "execution_count": null,
   "metadata": {},
   "outputs": [],
   "source": []
  }
 ],
 "metadata": {
  "kernelspec": {
   "display_name": "Python 3 (ipykernel)",
   "language": "python",
   "name": "python3"
  },
  "language_info": {
   "codemirror_mode": {
    "name": "ipython",
    "version": 3
   },
   "file_extension": ".py",
   "mimetype": "text/x-python",
   "name": "python",
   "nbconvert_exporter": "python",
   "pygments_lexer": "ipython3",
   "version": "3.11.4"
  }
 },
 "nbformat": 4,
 "nbformat_minor": 2
}
